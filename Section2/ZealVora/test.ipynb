{
 "cells": [
  {
   "cell_type": "code",
   "execution_count": 1,
   "metadata": {},
   "outputs": [
    {
     "data": {
      "text/plain": [
       "360"
      ]
     },
     "execution_count": 1,
     "metadata": {},
     "output_type": "execute_result"
    }
   ],
   "source": [
    "a = \"My father has lost his job due to covid and his illness and my mother is the sole bread winner for my family. I want to pursue a career in Cyber Security and Linux and I am not able to finance my studies as my family's financial condition is very bad. Hence I humbly request you to give me this opportunity to learn the fundamentles of Linux using this course.\"\n",
    "len(a)"
   ]
  },
  {
   "cell_type": "code",
   "execution_count": 3,
   "metadata": {},
   "outputs": [
    {
     "data": {
      "text/plain": [
       "1211"
      ]
     },
     "execution_count": 3,
     "metadata": {},
     "output_type": "execute_result"
    }
   ],
   "source": [
    "b= \"My father has lost his job due to covid and his illness and my mother is the sole bread winner for my family. After Covid break out, it been tough time for me and my family with the finances. Here I stand with lot of dreams to study but my family is not is a position to support me with finances. I want to pursue a career in Cyber Security and Linux and I am not able to finance my studies as my family's financial condition is very bad. I am a student and don't have any special source of income. I totally rely on my mother for my college fees and pocket money and other monthly expenditure. My parents has taken a mortgage loan and hence they are not able to support my education. In this circumstance, it is very much difficult for me to gather money for the certificate. Financial assistance will help me take this course without any adverse impact on my monthly essential needs. So, I’m badly in need of this financial aid. I cannot afford to buy the course for $99 alongside my monthly expenses and college fees. I would be happy to get financial help and discount. Receiving this Financial assistance will open for me a new horizon of the world of edX courses, which in turn will help me in the future.\"\n",
    "len(b)"
   ]
  }
 ],
 "metadata": {
  "interpreter": {
   "hash": "fbb98bb154d8c9f9069922f89824353d3bddf18bb06ff4d192b24bff20fe3e16"
  },
  "kernelspec": {
   "display_name": "Python 3.9.1 64-bit",
   "language": "python",
   "name": "python3"
  },
  "language_info": {
   "codemirror_mode": {
    "name": "ipython",
    "version": 3
   },
   "file_extension": ".py",
   "mimetype": "text/x-python",
   "name": "python",
   "nbconvert_exporter": "python",
   "pygments_lexer": "ipython3",
   "version": "3.9.1"
  },
  "orig_nbformat": 4
 },
 "nbformat": 4,
 "nbformat_minor": 2
}
