{
 "cells": [
  {
   "cell_type": "code",
   "execution_count": 1,
   "metadata": {},
   "outputs": [],
   "source": [
    "a = {\"RDM_DEVICE\" : \n",
    "{\"rdmDevice_1\": \"naa.624a9370ae3a0bc61be8d8c70001a4d9,ae3a0bc61be8d8c70001a4d9,1048576\",\n",
    "\"rdmDevice_2\": \"naa.624a9370ae3a0bc61be8d8c70001a4cf,ae3a0bc61be8d8c70001a4cf,1048576\",\n",
    "\"rdmDevice_3\": \"naa.624a9370ae3a0bc61be8d8c70001a4d9,ae3a0bc61be8d8c70001a4d9,1048576\",\n",
    "\"rdmDevice_4\": \"naa.624a9370ae3a0bc61be8d8c70001a4cf,ae3a0bc61be8d8c70001a4cf,1048576\"}}"
   ]
  },
  {
   "cell_type": "code",
   "execution_count": 3,
   "metadata": {},
   "outputs": [
    {
     "data": {
      "text/plain": [
       "'naa.624a9370ae3a0bc61be8d8c70001a4d9,ae3a0bc61be8d8c70001a4d9,1048576'"
      ]
     },
     "execution_count": 3,
     "metadata": {},
     "output_type": "execute_result"
    }
   ],
   "source": [
    "a[\"RDM_DEVICE\"][\"rdmDevice_1\"]"
   ]
  },
  {
   "cell_type": "code",
   "execution_count": 4,
   "metadata": {},
   "outputs": [
    {
     "data": {
      "text/plain": [
       "'naa.624a9370ae3a0bc61be8d8c70001a4cf,ae3a0bc61be8d8c70001a4cf,1048576'"
      ]
     },
     "execution_count": 4,
     "metadata": {},
     "output_type": "execute_result"
    }
   ],
   "source": [
    "a[\"RDM_DEVICE\"][\"rdmDevice_2\"]"
   ]
  },
  {
   "cell_type": "code",
   "execution_count": 6,
   "metadata": {},
   "outputs": [
    {
     "data": {
      "text/plain": [
       "'ae3a0bc61be8d8c70001a4d9'"
      ]
     },
     "execution_count": 6,
     "metadata": {},
     "output_type": "execute_result"
    }
   ],
   "source": [
    "a[\"RDM_DEVICE\"][\"rdmDevice_3\"].split(\",\")[1]"
   ]
  },
  {
   "cell_type": "code",
   "execution_count": null,
   "metadata": {},
   "outputs": [],
   "source": []
  }
 ],
 "metadata": {
  "interpreter": {
   "hash": "fbb98bb154d8c9f9069922f89824353d3bddf18bb06ff4d192b24bff20fe3e16"
  },
  "kernelspec": {
   "display_name": "Python 3.9.1 64-bit",
   "language": "python",
   "name": "python3"
  },
  "language_info": {
   "codemirror_mode": {
    "name": "ipython",
    "version": 3
   },
   "file_extension": ".py",
   "mimetype": "text/x-python",
   "name": "python",
   "nbconvert_exporter": "python",
   "pygments_lexer": "ipython3",
   "version": "3.9.1"
  },
  "orig_nbformat": 4
 },
 "nbformat": 4,
 "nbformat_minor": 2
}
